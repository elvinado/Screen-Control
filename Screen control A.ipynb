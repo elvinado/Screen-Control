{
 "cells": [
  {
   "cell_type": "code",
   "execution_count": null,
   "metadata": {
    "scrolled": true
   },
   "outputs": [],
   "source": [
    "import pyautogui\n",
    "import time\n",
    "#pyautogui.PAUSE = 0.1\n",
    "pyautogui.FAILSAFE = True\n",
    "\n",
    "# Defaults\n",
    "a,b,g,h= 1381,311,1579,183\n",
    "wait = 5\n",
    "start = 66\n",
    "end = 71"
   ]
  },
  {
   "cell_type": "code",
   "execution_count": null,
   "metadata": {
    "scrolled": false
   },
   "outputs": [],
   "source": [
    "# Next Button\n",
    "#a,b = pyautogui.position()\n",
    "#print(a,b)"
   ]
  },
  {
   "cell_type": "code",
   "execution_count": null,
   "metadata": {
    "scrolled": true
   },
   "outputs": [],
   "source": [
    "# Origin\n",
    "#g,h = pyautogui.position()\n",
    "#print(g,h)"
   ]
  },
  {
   "cell_type": "code",
   "execution_count": null,
   "metadata": {
    "scrolled": true
   },
   "outputs": [],
   "source": [
    "def click():\n",
    "    pyautogui.moveTo(a, b)\n",
    "    pyautogui.click(a, b, pause=wait)\n",
    "\n",
    "def drag():\n",
    "    pyautogui.moveTo(g, h)\n",
    "    pyautogui.dragRel(-500,0,duration=0.15)\n",
    "    \n",
    "drag()\n",
    "\n",
    "while 1:\n",
    "    if start-1 == end:\n",
    "        break\n",
    "    \n",
    "    click()\n",
    "    drag()\n",
    "    time.sleep(0.1)\n",
    "\n",
    "print (\"Finished\")"
   ]
  }
 ],
 "metadata": {
  "kernelspec": {
   "display_name": "Python 3",
   "language": "python",
   "name": "python3"
  },
  "language_info": {
   "codemirror_mode": {
    "name": "ipython",
    "version": 3
   },
   "file_extension": ".py",
   "mimetype": "text/x-python",
   "name": "python",
   "nbconvert_exporter": "python",
   "pygments_lexer": "ipython3",
   "version": "3.6.2"
  }
 },
 "nbformat": 4,
 "nbformat_minor": 2
}
