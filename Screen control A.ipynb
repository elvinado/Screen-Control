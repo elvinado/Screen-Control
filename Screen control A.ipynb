{
 "cells": [
  {
   "cell_type": "code",
   "execution_count": null,
   "metadata": {
    "scrolled": true
   },
   "outputs": [],
   "source": [
    "import pyautogui, time, json\n",
    "\n",
    "with open('../elvconfig.json') as cfg_data:\n",
    "    cfg = json.load(cfg_data)\n",
    "\n",
    "# Defaults\n",
    "a,b,g,h= 1381,311,1579,183\n",
    "wait = 5\n",
    "startpage = cfg['startpage']\n",
    "endpage = cfg['endpage']\n",
    "\n",
    "def clicknext():\n",
    "    pyautogui.moveTo(a, b)\n",
    "    pyautogui.click(a, b, pause=wait)\n",
    "\n",
    "def drag():\n",
    "    pyautogui.moveTo(g, h)\n",
    "    pyautogui.dragRel(-500,0,duration=0.15)"
   ]
  },
  {
   "cell_type": "code",
   "execution_count": null,
   "metadata": {
    "scrolled": false
   },
   "outputs": [],
   "source": [
    "# Next Button\n",
    "#a,b = pyautogui.position()\n",
    "#print(a,b)"
   ]
  },
  {
   "cell_type": "code",
   "execution_count": null,
   "metadata": {
    "scrolled": true
   },
   "outputs": [],
   "source": [
    "# Origin\n",
    "#g,h = pyautogui.position()\n",
    "#print(g,h)"
   ]
  },
  {
   "cell_type": "code",
   "execution_count": null,
   "metadata": {
    "scrolled": true
   },
   "outputs": [],
   "source": [
    "# Drag first page\n",
    "drag()\n",
    "# Do the rest of the pages\n",
    "while 1: \n",
    "    if startpage == endpage:\n",
    "        break\n",
    "        \n",
    "    clicknext()\n",
    "    drag()\n",
    "    time.sleep(0.1)\n",
    "    startpage += 1\n",
    "    \n",
    "print (\"Finished\")"
   ]
  }
 ],
 "metadata": {
  "kernelspec": {
   "display_name": "Python 3",
   "language": "python",
   "name": "python3"
  },
  "language_info": {
   "codemirror_mode": {
    "name": "ipython",
    "version": 3
   },
   "file_extension": ".py",
   "mimetype": "text/x-python",
   "name": "python",
   "nbconvert_exporter": "python",
   "pygments_lexer": "ipython3",
   "version": "3.6.2"
  }
 },
 "nbformat": 4,
 "nbformat_minor": 2
}
