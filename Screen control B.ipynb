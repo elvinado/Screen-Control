{
 "cells": [
  {
   "cell_type": "markdown",
   "metadata": {},
   "source": [
    "# To be used in CHROME browser with multiple rows and columns per page"
   ]
  },
  {
   "cell_type": "code",
   "execution_count": null,
   "metadata": {
    "scrolled": true
   },
   "outputs": [],
   "source": [
    "import pyautogui, time, json\n",
    "\n",
    "with open('../elvconfig.json') as cfg_data:\n",
    "    cfg = json.load(cfg_data)\n",
    "\n",
    "# Defaults\n",
    "a,b,g,h,x1,y1= 1381,311,1579,183,1358,279\n",
    "pausewait = cfg['pausewait']\n",
    "startpage = cfg['startpage']\n",
    "endpage = cfg['endpage']\n",
    "pixinc = cfg['pixinc']\n",
    "startrow = cfg['startrow']\n",
    "endrow = cfg['endrow']\n",
    "tilecols = cfg['tilecols']\n",
    "\n",
    "\n",
    "def clicknext(x, y):\n",
    "    pyautogui.moveTo(x, y)\n",
    "    pyautogui.click(x, y, pause=pausewait)\n",
    "\n",
    "def drag(x, y):\n",
    "    pyautogui.moveTo(x, y)\n",
    "    pyautogui.dragRel(-500,0,duration=0.15)\n",
    "    \n",
    "def multitiles(startpage):\n",
    "    while True:\n",
    "        y = y1 + ((startrow - 1) * pixinc)\n",
    "        pointer = startrow\n",
    "        while True:\n",
    "            x = x1\n",
    "            for i in range(tilecols):\n",
    "                clicknext(x, y)\n",
    "                drag(g, h)\n",
    "                time.sleep(0.2)\n",
    "                x = x + pixinc\n",
    "            y = y + pixinc\n",
    "            #end if reach endrow\n",
    "            if pointer == endrow:\n",
    "                #resetting the pointer\n",
    "                pointer = startrow\n",
    "                break\n",
    "            pointer += 1\n",
    "        # click next page button\n",
    "        clicknext(a, b)\n",
    "        # end if reach endpage\n",
    "        if startpage == endpage:\n",
    "            break\n",
    "        startpage += 1\n",
    "\n",
    "def singletile(startpage):\n",
    "    # Drag first page\n",
    "    drag(g,h)\n",
    "    # Do the rest of the pages\n",
    "    while True: \n",
    "        if startpage == endpage:\n",
    "            break\n",
    "\n",
    "        clicknext(a,b)\n",
    "        drag(g,h)\n",
    "        time.sleep(0.1)\n",
    "        startpage += 1"
   ]
  },
  {
   "cell_type": "code",
   "execution_count": null,
   "metadata": {
    "scrolled": true
   },
   "outputs": [],
   "source": [
    "# First Tile\n",
    "#x1,y1 = pyautogui.position()\n",
    "#print(x1,y1)"
   ]
  },
  {
   "cell_type": "code",
   "execution_count": null,
   "metadata": {
    "scrolled": true
   },
   "outputs": [],
   "source": [
    "# Next page Button\n",
    "#a,b = pyautogui.position()\n",
    "#print(a,b)"
   ]
  },
  {
   "cell_type": "code",
   "execution_count": null,
   "metadata": {},
   "outputs": [],
   "source": [
    "# Origin\n",
    "#g,h = pyautogui.position()\n",
    "#print(g,h)"
   ]
  },
  {
   "cell_type": "code",
   "execution_count": null,
   "metadata": {},
   "outputs": [],
   "source": [
    "if (startrow,endrow,tilecols) == (1,1,1):\n",
    "    singletile(startpage)\n",
    "else:\n",
    "    time.sleep(5)\n",
    "    multitiles(startpage)\n",
    "\n",
    "print(\"Finished\")"
   ]
  }
 ],
 "metadata": {
  "kernelspec": {
   "display_name": "Python 3",
   "language": "python",
   "name": "python3"
  },
  "language_info": {
   "codemirror_mode": {
    "name": "ipython",
    "version": 3
   },
   "file_extension": ".py",
   "mimetype": "text/x-python",
   "name": "python",
   "nbconvert_exporter": "python",
   "pygments_lexer": "ipython3",
   "version": "3.6.2"
  }
 },
 "nbformat": 4,
 "nbformat_minor": 2
}
